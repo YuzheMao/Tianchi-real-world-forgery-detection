{
 "cells": [
  {
   "cell_type": "code",
   "execution_count": 7,
   "id": "beaff485",
   "metadata": {},
   "outputs": [],
   "source": [
    "import os\n",
    "import io\n",
    "import torch\n",
    "import torch.nn as nn\n",
    "import torch.nn.functional as F\n",
    "import cv2\n",
    "import numpy as np\n",
    "import matplotlib.pyplot as plt"
   ]
  },
  {
   "cell_type": "code",
   "execution_count": 8,
   "id": "2d73718e",
   "metadata": {},
   "outputs": [],
   "source": [
    "os.environ[\"CUDA_VISIBLE_DEVICES\"] = \"0\""
   ]
  },
  {
   "cell_type": "code",
   "execution_count": 9,
   "id": "3ab66e46",
   "metadata": {},
   "outputs": [],
   "source": [
    "class SRMConv2d_simple(nn.Module):\n",
    "    \n",
    "    def __init__(self, inc=3, learnable=False):\n",
    "        super(SRMConv2d_simple, self).__init__()\n",
    "        self.truc = nn.Hardtanh(-3, 3)\n",
    "        kernel = self._build_kernel(inc)  # (3,3,5,5)\n",
    "        self.kernel = nn.Parameter(data=kernel, requires_grad=learnable)\n",
    "        # self.hor_kernel = self._build_kernel().transpose(0,1,3,2)\n",
    "\n",
    "    def forward(self, x):\n",
    "        '''\n",
    "        x: imgs (Batch, H, W, 3)\n",
    "        '''\n",
    "        out = F.conv2d(x, self.kernel, stride=1, padding=2)\n",
    "        out = self.truc(out)\n",
    "\n",
    "        return out\n",
    "\n",
    "    def _build_kernel(self, inc):\n",
    "        # filter1: KB\n",
    "        filter1 = [[0, 0, 0, 0, 0],\n",
    "                   [0, -1, 2, -1, 0],\n",
    "                   [0, 2, -4, 2, 0],\n",
    "                   [0, -1, 2, -1, 0],\n",
    "                   [0, 0, 0, 0, 0]]\n",
    "        # filter2：KV\n",
    "        filter2 = [[-1, 2, -2, 2, -1],\n",
    "                   [2, -6, 8, -6, 2],\n",
    "                   [-2, 8, -12, 8, -2],\n",
    "                   [2, -6, 8, -6, 2],\n",
    "                   [-1, 2, -2, 2, -1]]\n",
    "        # filter3：hor 2rd\n",
    "        filter3 = [[0, 0, 0, 0, 0],\n",
    "                  [0, 0, 0, 0, 0],\n",
    "                  [0, 1, -2, 1, 0],\n",
    "                  [0, 0, 0, 0, 0],\n",
    "                  [0, 0, 0, 0, 0]]\n",
    "\n",
    "        filter1 = np.asarray(filter1, dtype=float) / 4.\n",
    "        filter2 = np.asarray(filter2, dtype=float) / 12.\n",
    "        filter3 = np.asarray(filter3, dtype=float) / 2.\n",
    "        # statck the filters\n",
    "        filters = [[filter1],#, filter1, filter1],\n",
    "                   [filter2],#, filter2, filter2],\n",
    "                   [filter3]]#, filter3, filter3]]  # (3,3,5,5)\n",
    "        filters = np.array(filters)\n",
    "        filters = np.repeat(filters, inc, axis=1)\n",
    "        filters = torch.FloatTensor(filters)    # (3,3,5,5)\n",
    "        filters[filters > 2] = 2\n",
    "        filters[filters < -2] = -2\n",
    "        return filters\n",
    "\n"
   ]
  },
  {
   "cell_type": "code",
   "execution_count": 4,
   "id": "a432bfe7",
   "metadata": {},
   "outputs": [],
   "source": [
    "def SRM_filter(path):\n",
    "    SRM = SRMConv2d_simple(inc=3)\n",
    "    image1 = cv2.imread(path)\n",
    "    image = cv2.cvtColor(image1, cv2.COLOR_BGR2RGB)\n",
    "    image = torch.tensor(image, dtype=torch.float)\n",
    "    image = image.permute(2, 0, 1).unsqueeze(0)\n",
    "    image = SRM(image)\n",
    "    image = image.squeeze(0).permute(1, 2 ,0)\n",
    "    image = 255 - image * image1\n",
    "    \n",
    "    cv2.imwrite(os.path.join('./data/ze_SRM', path.split('/')[-1]), np.float32(image))"
   ]
  },
  {
   "cell_type": "code",
   "execution_count": 12,
   "id": "be221635",
   "metadata": {},
   "outputs": [
    {
     "name": "stdout",
     "output_type": "stream",
     "text": [
      "./data/another/635b1831d3b3fae8ba84c325b96ae9b.jpg\n",
      "./data/another/1648002355(1).jpg\n"
     ]
    }
   ],
   "source": [
    "file_paths = ['./data/another']\n",
    "for file_path in file_paths:\n",
    "    if not os.path.isdir('./data/ze_SRM'):\n",
    "        os.makedirs('./data/ze_SRM')\n",
    "    files = os.listdir(file_path)\n",
    "    for file in files:\n",
    "        file = os.path.join(file_path, file)\n",
    "        print(file)\n",
    "        SRM_filter(file)"
   ]
  },
  {
   "cell_type": "code",
   "execution_count": null,
   "id": "28a4aca2",
   "metadata": {},
   "outputs": [],
   "source": []
  }
 ],
 "metadata": {
  "kernelspec": {
   "display_name": "Python [conda env:mvss] *",
   "language": "python",
   "name": "conda-env-mvss-py"
  },
  "language_info": {
   "codemirror_mode": {
    "name": "ipython",
    "version": 3
   },
   "file_extension": ".py",
   "mimetype": "text/x-python",
   "name": "python",
   "nbconvert_exporter": "python",
   "pygments_lexer": "ipython3",
   "version": "3.7.11"
  }
 },
 "nbformat": 4,
 "nbformat_minor": 5
}
