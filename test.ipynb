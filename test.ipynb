{
 "cells": [
  {
   "cell_type": "code",
   "execution_count": 1,
   "id": "e497ff6f",
   "metadata": {},
   "outputs": [],
   "source": [
    "import os\n",
    "import cv2\n",
    "import torch\n",
    "import minetorch\n",
    "\n",
    "import numpy as np\n",
    "import pandas as pd\n",
    "import seaborn as sns\n",
    "import albumentations as albu\n",
    "import matplotlib.pyplot as plt\n",
    "import segmentation_models_pytorch as smp\n",
    "\n",
    "\n",
    "from tqdm import tqdm\n",
    "from models.mvssnet import get_mvss\n",
    "from albumentations.pytorch import ToTensorV2\n",
    "from albumentations import (Normalize, Compose)\n",
    "from torch.utils.data import DataLoader, Dataset\n",
    "from sklearn.model_selection import train_test_split\n",
    "from torch.optim.lr_scheduler import CosineAnnealingWarmRestarts"
   ]
  },
  {
   "cell_type": "code",
   "execution_count": 2,
   "id": "62562921",
   "metadata": {},
   "outputs": [],
   "source": [
    "test_path = './data/ze.csv'\n",
    "model_name = 'timm-efficientnet-b0'\n",
    "model_paths = ['./ckpt/mvssnet_casia.pt']\n",
    "# model_paths = ['./efficientnet/fold-0/models/latest.pth.tar']\n",
    "save_path = './result'\n",
    "\n",
    "width = 512\n",
    "height = 512\n",
    "batchsize = 1\n",
    "\n",
    "os.environ[\"CUDA_VISIBLE_DEVICES\"] = \"3\""
   ]
  },
  {
   "cell_type": "code",
   "execution_count": 3,
   "id": "d256276b",
   "metadata": {},
   "outputs": [],
   "source": [
    "class FakeDataset:\n",
    "    def __init__(self, df, transforms):\n",
    "        self.df = df\n",
    "        self.transforms = transforms\n",
    "\n",
    "    def __getitem__(self, idx):\n",
    "        row = self.df.iloc[idx]\n",
    "        path = row['image']\n",
    "        image = cv2.imread(path)\n",
    "        img_ori = cv2.cvtColor(image, cv2.COLOR_BGR2RGB)\n",
    "        shape = img_ori.shape\n",
    "        augmented = self.transforms(image=img_ori)\n",
    "        img = augmented['image']\n",
    "\n",
    "        return img.float(), path.split('/')[-1], shape\n",
    "\n",
    "    def __len__(self):\n",
    "        return len(self.df)\n",
    "\n",
    "def make_transforms(phase,mean=(0.485, 0.456, 0.406), std=(0.229, 0.224, 0.225), tta=False):\n",
    "    list_transforms = []\n",
    "    if tta:\n",
    "        list_transforms.extend(\n",
    "            [\n",
    "                albu.HorizontalFlip(p=1),\n",
    "                \n",
    "            ]\n",
    "        )\n",
    "    list_transforms.extend(\n",
    "        [\n",
    "            albu.Resize(width, height),\n",
    "            albu.UnsharpMask(p=1),\n",
    "            ToTensorV2(),\n",
    "        ]\n",
    "    )\n",
    "\n",
    "    list_trfms = Compose(list_transforms)\n",
    "    return list_trfms"
   ]
  },
  {
   "cell_type": "code",
   "execution_count": 4,
   "id": "c16287e8",
   "metadata": {},
   "outputs": [],
   "source": [
    "df = pd.read_csv(test_path)\n",
    "    \n",
    "\n",
    "testset = FakeDataset(df, make_transforms('val'))\n",
    "testset_tta = FakeDataset(df, make_transforms('val', tta=True))\n",
    "\n",
    "test_loader = DataLoader(\n",
    "    testset,\n",
    "    batch_size=batchsize,\n",
    "    num_workers=8,\n",
    "    pin_memory=True\n",
    ")\n",
    "\n",
    "test_loader_tta = DataLoader(\n",
    "    testset_tta,\n",
    "    batch_size=batchsize,\n",
    "    num_workers=8,\n",
    "    pin_memory=True\n",
    ")"
   ]
  },
  {
   "cell_type": "code",
   "execution_count": 5,
   "id": "2a7c9e9d",
   "metadata": {},
   "outputs": [
    {
     "name": "stdout",
     "output_type": "stream",
     "text": [
      "load pretrain success\n",
      "----------use sobel-------------\n",
      "----------use constrain-------------\n",
      "load pretrain success\n"
     ]
    }
   ],
   "source": [
    "models = []\n",
    "\n",
    "for model_path in model_paths:\n",
    "    '''model = smp.UnetPlusPlus(\n",
    "        model_name,\n",
    "        classes=1,\n",
    "        encoder_weights=None,\n",
    "        activation=None,\n",
    "    ).cuda()'''\n",
    "    model = get_mvss(backbone='resnet50',\n",
    "                 pretrained_base=True,\n",
    "                 nclass=1,\n",
    "                 sobel=True,\n",
    "                 constrain=True,\n",
    "                 n_input=3,\n",
    "    ).cuda()\n",
    "    stuff = torch.load(model_path)\n",
    "    model.load_state_dict(stuff)\n",
    "    model.eval();\n",
    "    models.append(model)"
   ]
  },
  {
   "cell_type": "code",
   "execution_count": 13,
   "id": "e5160054",
   "metadata": {},
   "outputs": [
    {
     "name": "stdout",
     "output_type": "stream",
     "text": [
      "(1080, 1920, 3)(1080, 1920, 3)(1080, 1920, 3)(1080, 1920, 3)(1080, 1920, 3)(1080, 1920, 3)(1080, 1920, 3)(1080, 1920, 3)\n",
      "\n",
      "\n",
      "\n",
      "\n",
      "\n",
      "\n",
      "\n",
      "(1080, 1920, 3)\n",
      "(1080, 1920, 3)\n"
     ]
    },
    {
     "name": "stderr",
     "output_type": "stream",
     "text": [
      "\r",
      "  0%|                                                    | 0/10 [00:00<?, ?it/s]"
     ]
    },
    {
     "name": "stdout",
     "output_type": "stream",
     "text": [
      "(1080, 1920, 3)\n",
      "(1080, 1920, 3)(1080, 1920, 3)\n",
      "(1080, 1920, 3)(1080, 1920, 3)\n",
      "(1080, 1920, 3)\n",
      "\n",
      "(1080, 1920, 3)\n",
      "\n",
      "(1080, 1920, 3)\n",
      "(1080, 1920, 3)\n",
      "(1080, 1920, 3)\n"
     ]
    },
    {
     "name": "stderr",
     "output_type": "stream",
     "text": [
      "  0%|                                                    | 0/10 [00:00<?, ?it/s]\n"
     ]
    },
    {
     "ename": "RuntimeError",
     "evalue": "number of dims don't match in permute",
     "output_type": "error",
     "traceback": [
      "\u001b[0;31m---------------------------------------------------------------------------\u001b[0m",
      "\u001b[0;31mRuntimeError\u001b[0m                              Traceback (most recent call last)",
      "\u001b[0;32m/tmp/ipykernel_2184084/175188187.py\u001b[0m in \u001b[0;36m<module>\u001b[0;34m\u001b[0m\n\u001b[1;32m     11\u001b[0m         \u001b[0mmasks1\u001b[0m \u001b[0;34m=\u001b[0m \u001b[0mmodel\u001b[0m\u001b[0;34m(\u001b[0m\u001b[0mimage\u001b[0m\u001b[0;34m.\u001b[0m\u001b[0mcuda\u001b[0m\u001b[0;34m(\u001b[0m\u001b[0;34m)\u001b[0m\u001b[0;34m)\u001b[0m\u001b[0;34m\u001b[0m\u001b[0;34m\u001b[0m\u001b[0m\n\u001b[1;32m     12\u001b[0m         \u001b[0mmasks_tta1\u001b[0m \u001b[0;34m=\u001b[0m \u001b[0mmodel\u001b[0m\u001b[0;34m(\u001b[0m\u001b[0mimage_tta\u001b[0m\u001b[0;34m.\u001b[0m\u001b[0mcuda\u001b[0m\u001b[0;34m(\u001b[0m\u001b[0;34m)\u001b[0m\u001b[0;34m)\u001b[0m\u001b[0;34m\u001b[0m\u001b[0;34m\u001b[0m\u001b[0m\n\u001b[0;32m---> 13\u001b[0;31m         \u001b[0mmask1\u001b[0m \u001b[0;34m+=\u001b[0m \u001b[0malbu\u001b[0m\u001b[0;34m.\u001b[0m\u001b[0mResize\u001b[0m\u001b[0;34m(\u001b[0m\u001b[0mshape\u001b[0m\u001b[0;34m[\u001b[0m\u001b[0;36m0\u001b[0m\u001b[0;34m]\u001b[0m\u001b[0;34m.\u001b[0m\u001b[0mitem\u001b[0m\u001b[0;34m(\u001b[0m\u001b[0;34m)\u001b[0m\u001b[0;34m,\u001b[0m \u001b[0mshape\u001b[0m\u001b[0;34m[\u001b[0m\u001b[0;36m1\u001b[0m\u001b[0;34m]\u001b[0m\u001b[0;34m.\u001b[0m\u001b[0mitem\u001b[0m\u001b[0;34m(\u001b[0m\u001b[0;34m)\u001b[0m\u001b[0;34m)\u001b[0m\u001b[0;34m(\u001b[0m\u001b[0mimage\u001b[0m\u001b[0;34m=\u001b[0m\u001b[0mmasks1\u001b[0m\u001b[0;34m[\u001b[0m\u001b[0;36m0\u001b[0m\u001b[0;34m]\u001b[0m\u001b[0;34m.\u001b[0m\u001b[0mpermute\u001b[0m\u001b[0;34m(\u001b[0m\u001b[0;36m1\u001b[0m\u001b[0;34m,\u001b[0m\u001b[0;36m2\u001b[0m\u001b[0;34m,\u001b[0m\u001b[0;36m0\u001b[0m\u001b[0;34m)\u001b[0m\u001b[0;34m.\u001b[0m\u001b[0mdetach\u001b[0m\u001b[0;34m(\u001b[0m\u001b[0;34m)\u001b[0m\u001b[0;34m.\u001b[0m\u001b[0mcpu\u001b[0m\u001b[0;34m(\u001b[0m\u001b[0;34m)\u001b[0m\u001b[0;34m.\u001b[0m\u001b[0mnumpy\u001b[0m\u001b[0;34m(\u001b[0m\u001b[0;34m)\u001b[0m\u001b[0;34m)\u001b[0m\u001b[0;34m[\u001b[0m\u001b[0;34m'image'\u001b[0m\u001b[0;34m]\u001b[0m\u001b[0;34m\u001b[0m\u001b[0;34m\u001b[0m\u001b[0m\n\u001b[0m\u001b[1;32m     14\u001b[0m         \u001b[0mmask1\u001b[0m \u001b[0;34m+=\u001b[0m \u001b[0malbu\u001b[0m\u001b[0;34m.\u001b[0m\u001b[0mResize\u001b[0m\u001b[0;34m(\u001b[0m\u001b[0mshape\u001b[0m\u001b[0;34m[\u001b[0m\u001b[0;36m0\u001b[0m\u001b[0;34m]\u001b[0m\u001b[0;34m.\u001b[0m\u001b[0mitem\u001b[0m\u001b[0;34m(\u001b[0m\u001b[0;34m)\u001b[0m\u001b[0;34m,\u001b[0m \u001b[0mshape\u001b[0m\u001b[0;34m[\u001b[0m\u001b[0;36m1\u001b[0m\u001b[0;34m]\u001b[0m\u001b[0;34m.\u001b[0m\u001b[0mitem\u001b[0m\u001b[0;34m(\u001b[0m\u001b[0;34m)\u001b[0m\u001b[0;34m)\u001b[0m\u001b[0;34m(\u001b[0m\u001b[0mimage\u001b[0m\u001b[0;34m=\u001b[0m\u001b[0mnp\u001b[0m\u001b[0;34m.\u001b[0m\u001b[0mflip\u001b[0m\u001b[0;34m(\u001b[0m\u001b[0mmasks_tta1\u001b[0m\u001b[0;34m[\u001b[0m\u001b[0;36m0\u001b[0m\u001b[0;34m]\u001b[0m\u001b[0;34m.\u001b[0m\u001b[0mpermute\u001b[0m\u001b[0;34m(\u001b[0m\u001b[0;36m1\u001b[0m\u001b[0;34m,\u001b[0m\u001b[0;36m2\u001b[0m\u001b[0;34m,\u001b[0m\u001b[0;36m0\u001b[0m\u001b[0;34m)\u001b[0m\u001b[0;34m.\u001b[0m\u001b[0mdetach\u001b[0m\u001b[0;34m(\u001b[0m\u001b[0;34m)\u001b[0m\u001b[0;34m.\u001b[0m\u001b[0mcpu\u001b[0m\u001b[0;34m(\u001b[0m\u001b[0;34m)\u001b[0m\u001b[0;34m.\u001b[0m\u001b[0mnumpy\u001b[0m\u001b[0;34m(\u001b[0m\u001b[0;34m)\u001b[0m\u001b[0;34m,\u001b[0m \u001b[0maxis\u001b[0m\u001b[0;34m=\u001b[0m\u001b[0;36m1\u001b[0m\u001b[0;34m)\u001b[0m\u001b[0;34m)\u001b[0m\u001b[0;34m[\u001b[0m\u001b[0;34m'image'\u001b[0m\u001b[0;34m]\u001b[0m\u001b[0;34m\u001b[0m\u001b[0;34m\u001b[0m\u001b[0m\n\u001b[1;32m     15\u001b[0m         \u001b[0mmask1\u001b[0m \u001b[0;34m/=\u001b[0m \u001b[0;36m2\u001b[0m\u001b[0;34m\u001b[0m\u001b[0;34m\u001b[0m\u001b[0m\n",
      "\u001b[0;31mRuntimeError\u001b[0m: number of dims don't match in permute"
     ]
    }
   ],
   "source": [
    "def sigmoid(x):\n",
    "    return 1/(1 + np.exp(-x))\n",
    "\n",
    "file_name = 'images'\n",
    "if not os.path.isdir(os.path.join(save_path, file_name)):\n",
    "    os.makedirs(os.path.join(save_path, file_name))\n",
    "\n",
    "for (image, fn, shape), (image_tta, _, _) in tqdm(zip(test_loader, test_loader_tta), total=len(testset)):\n",
    "    mask1 = 0\n",
    "    for model in models:\n",
    "        masks1 = model(image.cuda())\n",
    "        masks_tta1 = model(image_tta.cuda())\n",
    "        mask1 += albu.Resize(shape[0].item(), shape[1].item())(image=masks1[0].permute(1,2,0).detach().cpu().numpy())['image']\n",
    "        mask1 += albu.Resize(shape[0].item(), shape[1].item())(image=np.flip(masks_tta1[0].permute(1,2,0).detach().cpu().numpy(), axis=1))['image']\n",
    "        mask1 /= 2\n",
    "    mask1 /= len(models)\n",
    "    save_seg_path = os.path.join(save_path, file_name, fn[0].split('.')[0] + '.png')\n",
    "    fake_mask = ((sigmoid(mask1) > 0.5)*255.).astype(np.uint8)\n",
    "    cv2.imwrite(save_seg_path, fake_mask.astype(np.uint8))"
   ]
  },
  {
   "cell_type": "code",
   "execution_count": 9,
   "id": "4a6fd010",
   "metadata": {},
   "outputs": [
    {
     "name": "stderr",
     "output_type": "stream",
     "text": [
      "  0%|                                                    | 0/10 [00:00<?, ?it/s]/opt/anaconda3/envs/mvss/lib/python3.7/site-packages/ipykernel_launcher.py:2: RuntimeWarning: overflow encountered in exp\n",
      "  \n",
      " 10%|████▍                                       | 1/10 [00:00<00:02,  3.18it/s]"
     ]
    },
    {
     "name": "stdout",
     "output_type": "stream",
     "text": [
      "torch.Size([1, 1, 512, 512])\n"
     ]
    },
    {
     "name": "stderr",
     "output_type": "stream",
     "text": [
      "\r",
      " 20%|████████▊                                   | 2/10 [00:00<00:02,  3.67it/s]"
     ]
    },
    {
     "name": "stdout",
     "output_type": "stream",
     "text": [
      "torch.Size([1, 1, 512, 512])\n",
      "torch.Size([1, 1, 512, 512])\n",
      "torch.Size([1, 1, 512, 512])\n"
     ]
    },
    {
     "name": "stderr",
     "output_type": "stream",
     "text": [
      " 60%|██████████████████████████▍                 | 6/10 [00:00<00:00,  5.49it/s]"
     ]
    },
    {
     "name": "stdout",
     "output_type": "stream",
     "text": [
      "torch.Size([1, 1, 512, 512])\n",
      "torch.Size([1, 1, 512, 512])\n",
      "torch.Size([1, 1, 512, 512])\n"
     ]
    },
    {
     "name": "stderr",
     "output_type": "stream",
     "text": [
      "\r",
      " 80%|███████████████████████████████████▏        | 8/10 [00:01<00:00,  6.46it/s]"
     ]
    },
    {
     "name": "stdout",
     "output_type": "stream",
     "text": [
      "torch.Size([1, 1, 512, 512])\n",
      "torch.Size([1, 1, 512, 512])\n",
      "torch.Size([1, 1, 512, 512])\n"
     ]
    },
    {
     "name": "stderr",
     "output_type": "stream",
     "text": [
      "100%|███████████████████████████████████████████| 10/10 [00:01<00:00,  7.39it/s]\n"
     ]
    }
   ],
   "source": [
    "def sigmoid(x):\n",
    "    return 1/(1 + np.exp(-x))\n",
    "\n",
    "file_name = 'ze'\n",
    "if not os.path.isdir(os.path.join(save_path, file_name)):\n",
    "    os.makedirs(os.path.join(save_path, file_name))\n",
    "\n",
    "for (image, fn, shape), (image_tta, _, _) in tqdm(zip(test_loader, test_loader_tta), total=len(testset)):\n",
    "    mask1 = 0\n",
    "    for model in models:\n",
    "        _, masks1 = model(image.cuda())\n",
    "        _, masks_tta1 = model(image_tta.cuda())\n",
    "        print(masks1.shape)\n",
    "        masks1 = masks1.squeeze(1)\n",
    "        masks_tta1 =  masks_tta1.squeeze(1)\n",
    "        mask1 += albu.Resize(shape[0].item(), shape[1].item())(image=masks1.permute(1,2,0).detach().cpu().numpy())['image']\n",
    "        mask1 += albu.Resize(shape[0].item(), shape[1].item())(image=np.flip(masks_tta1.permute(1,2,0).detach().cpu().numpy(), axis=1))['image']\n",
    "        mask1 /= 2\n",
    "    mask1 /= len(models)\n",
    "    save_seg_path = os.path.join(save_path, file_name, fn[0].split('.')[0] + '.png')\n",
    "    fake_mask = ((sigmoid(mask1) > 0.5)*255.).astype(np.uint8)\n",
    "    cv2.imwrite(save_seg_path, fake_mask.astype(np.uint8))"
   ]
  },
  {
   "cell_type": "code",
   "execution_count": null,
   "id": "cf9b390b",
   "metadata": {},
   "outputs": [],
   "source": []
  }
 ],
 "metadata": {
  "kernelspec": {
   "display_name": "Python [conda env:mvss] *",
   "language": "python",
   "name": "conda-env-mvss-py"
  },
  "language_info": {
   "codemirror_mode": {
    "name": "ipython",
    "version": 3
   },
   "file_extension": ".py",
   "mimetype": "text/x-python",
   "name": "python",
   "nbconvert_exporter": "python",
   "pygments_lexer": "ipython3",
   "version": "3.7.11"
  }
 },
 "nbformat": 4,
 "nbformat_minor": 5
}
